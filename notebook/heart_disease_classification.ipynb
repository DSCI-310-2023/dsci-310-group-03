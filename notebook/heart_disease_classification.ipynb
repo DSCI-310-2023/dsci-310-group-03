{
 "cells": [
  {
   "cell_type": "markdown",
   "metadata": {},
   "source": [
    "# Final Report: Diagnosing Heart Disease"
   ]
  },
  {
   "cell_type": "markdown",
   "metadata": {},
   "source": [
    "Cardiovascular disease is the leading cause of death worldwide (Ahmad & Anderson, 2021). During 2020, the United States saw 690,882 deaths from this condition, compared to the 345,323 deaths from COVID-19 (Centre of Disease Control and Prevention, 2022). There are several risk factors for developing heart disease, and the consequences of heart disease vary in severity. The risk of death increases when other comorbidities are present, including COVID-19 (Madjid et al., 2020). Because this disease affects a large amount of the population, it puts significant strain on the healthcare system.\n",
    "\n",
    "We thus want to determine: Based on only two predictors gathered from health checkups performed by doctors, does somebody suffer from heart disease?\n",
    "\n",
    "To answer this question, we analyze the Cleveland data file that contains 303 instances and records of basic information about the patient and multiple heart disease-related factors like blood pressure, blood sugar, heart rate, etc (Detrano, 1988). "
   ]
  },
  {
   "cell_type": "markdown",
   "metadata": {},
   "source": [
    "## Introduction"
   ]
  },
  {
   "cell_type": "markdown",
   "metadata": {},
   "source": [
    "## Methods & Results"
   ]
  },
  {
   "cell_type": "markdown",
   "metadata": {},
   "source": [
    "To run this section, please make sure that you have at least R version 4.0.3 and that all libraries are installed and loaded correctly."
   ]
  },
  {
   "cell_type": "code",
   "execution_count": 1,
   "metadata": {},
   "outputs": [
    {
     "name": "stderr",
     "output_type": "stream",
     "text": [
       
      "── \u001b[1mAttaching packages\u001b[22m ─────────────────────────────────────────────── tidyverse 1.3.2 ──\n",
      "\u001b[32m✔\u001b[39m \u001b[34mggplot2\u001b[39m 3.4.0      \u001b[32m✔\u001b[39m \u001b[34mpurrr  \u001b[39m 1.0.1 \n",
      "\u001b[32m✔\u001b[39m \u001b[34mtibble \u001b[39m 3.1.8      \u001b[32m✔\u001b[39m \u001b[34mdplyr  \u001b[39m 1.0.10\n",
      "\u001b[32m✔\u001b[39m \u001b[34mtidyr  \u001b[39m 1.3.0      \u001b[32m✔\u001b[39m \u001b[34mstringr\u001b[39m 1.5.0 \n",
      "\u001b[32m✔\u001b[39m \u001b[34mreadr  \u001b[39m 2.1.3      \u001b[32m✔\u001b[39m \u001b[34mforcats\u001b[39m 0.5.2 \n",
      "── \u001b[1mConflicts\u001b[22m ────────────────────────────────────────────────── tidyverse_conflicts() ──\n",
      "\u001b[31m✖\u001b[39m \u001b[34mdplyr\u001b[39m::\u001b[32mfilter()\u001b[39m masks \u001b[34mstats\u001b[39m::filter()\n",
      "\u001b[31m✖\u001b[39m \u001b[34mdplyr\u001b[39m::\u001b[32mlag()\u001b[39m    masks \u001b[34mstats\u001b[39m::lag()\n",
      "── \u001b[1mAttaching packages\u001b[22m ────────────────────────────────────────────── tidymodels 1.0.0 ──\n",
      "\n",
      "\u001b[32m✔\u001b[39m \u001b[34mbroom       \u001b[39m 1.0.2     \u001b[32m✔\u001b[39m \u001b[34mrsample     \u001b[39m 1.1.1\n",
      "\u001b[32m✔\u001b[39m \u001b[34mdials       \u001b[39m 1.1.0     \u001b[32m✔\u001b[39m \u001b[34mtune        \u001b[39m 1.0.1\n",
      "\u001b[32m✔\u001b[39m \u001b[34minfer       \u001b[39m 1.0.4     \u001b[32m✔\u001b[39m \u001b[34mworkflows   \u001b[39m 1.1.2\n",
      "\u001b[32m✔\u001b[39m \u001b[34mmodeldata   \u001b[39m 1.0.1     \u001b[32m✔\u001b[39m \u001b[34mworkflowsets\u001b[39m 1.0.0\n",
      "\u001b[32m✔\u001b[39m \u001b[34mparsnip     \u001b[39m 1.0.2     \u001b[32m✔\u001b[39m \u001b[34myardstick   \u001b[39m 1.1.0\n",
      "\u001b[32m✔\u001b[39m \u001b[34mrecipes     \u001b[39m 1.0.2     \n",
      "\n",
      "── \u001b[1mConflicts\u001b[22m ───────────────────────────────────────────────── tidymodels_conflicts() ──\n",
      "\u001b[31m✖\u001b[39m \u001b[34mscales\u001b[39m::\u001b[32mdiscard()\u001b[39m masks \u001b[34mpurrr\u001b[39m::discard()\n",
      "\u001b[31m✖\u001b[39m \u001b[34mdplyr\u001b[39m::\u001b[32mfilter()\u001b[39m   masks \u001b[34mstats\u001b[39m::filter()\n",
      "\u001b[31m✖\u001b[39m \u001b[34mrecipes\u001b[39m::\u001b[32mfixed()\u001b[39m  masks \u001b[34mstringr\u001b[39m::fixed()\n",
      "\u001b[31m✖\u001b[39m \u001b[34mdplyr\u001b[39m::\u001b[32mlag()\u001b[39m      masks \u001b[34mstats\u001b[39m::lag()\n",
      "\u001b[31m✖\u001b[39m \u001b[34myardstick\u001b[39m::\u001b[32mspec()\u001b[39m masks \u001b[34mreadr\u001b[39m::spec()\n",
      "\u001b[31m✖\u001b[39m \u001b[34mrecipes\u001b[39m::\u001b[32mstep()\u001b[39m   masks \u001b[34mstats\u001b[39m::step()\n",
      "\u001b[34m•\u001b[39m Dig deeper into tidy modeling with R at \u001b[32mhttps://www.tmwr.org\u001b[39m\n",
      "\n"
     ]
    }
   ],
   "source": [
    "# load libraries\n",
    "library(tidyverse)\n",
    "library(repr)\n",
    "library(tidymodels)\n",
    "library(RColorBrewer)\n",
    "library(cowplot)\n",
    "options(repr.matrix.max.rows = 6)\n",
    "options(repr.plot.width = 12, repr.plot.height = 7) \n",
    "# set seed to make sure our file is reproducible\n",
    "set.seed(1020)"
   ]
  },
  {
   "cell_type": "code",
   "execution_count": 2,
   "metadata": {},
   "outputs": [
    {
     "name": "stdout",
     "output_type": "stream",
     "text": [
      "Rows: 303\n",
      "Columns: 15\n",
      "$ age                \u001b[3m\u001b[90m<dbl>\u001b[39m\u001b[23m 63, 67, 67, 37, 41, 56, 62, 57, 63, 53, 57, 56, 56,…\n",
      "$ sex                \u001b[3m\u001b[90m<fct>\u001b[39m\u001b[23m male, male, male, male, fem, male, fem, fem, male, …\n",
      "$ chest_pain_type    \u001b[3m\u001b[90m<fct>\u001b[39m\u001b[23m angina, asympt, asympt, notang, abnang, abnang, asy…\n",
      "$ resting_bp         \u001b[3m\u001b[90m<dbl>\u001b[39m\u001b[23m 145, 160, 120, 130, 130, 120, 140, 120, 130, 140, 1…\n",
      "$ cholesterol        \u001b[3m\u001b[90m<dbl>\u001b[39m\u001b[23m 233, 286, 229, 250, 204, 236, 268, 354, 254, 203, 1…\n",
      "$ high_blood_sugar   \u001b[3m\u001b[90m<fct>\u001b[39m\u001b[23m TRUE, fal, fal, fal, fal, fal, fal, fal, fal, TRUE,…\n",
      "$ resting_ecg        \u001b[3m\u001b[90m<fct>\u001b[39m\u001b[23m hyp, hyp, hyp, norm, hyp, norm, hyp, norm, hyp, hyp…\n",
      "$ max_heart_rate     \u001b[3m\u001b[90m<dbl>\u001b[39m\u001b[23m 150, 108, 129, 187, 172, 178, 160, 163, 147, 155, 1…\n",
      "$ exercise_pain      \u001b[3m\u001b[90m<fct>\u001b[39m\u001b[23m fal, TRUE, TRUE, fal, fal, fal, fal, TRUE, fal, TRU…\n",
      "$ old_peak           \u001b[3m\u001b[90m<dbl>\u001b[39m\u001b[23m 2.3, 1.5, 2.6, 3.5, 1.4, 0.8, 3.6, 0.6, 1.4, 3.1, 0…\n",
      "$ slope              \u001b[3m\u001b[90m<fct>\u001b[39m\u001b[23m down, flat, flat, down, up, up, down, up, flat, dow…\n",
      "$ no_vessels_colored \u001b[3m\u001b[90m<dbl>\u001b[39m\u001b[23m 0, 3, 2, 0, 0, 0, 2, 0, 1, 0, 0, 0, 1, 0, 0, 0, 0, …\n",
      "$ thal               \u001b[3m\u001b[90m<fct>\u001b[39m\u001b[23m fix, norm, rev, norm, norm, norm, norm, norm, rev, …\n",
      "$ diagnosis          \u001b[3m\u001b[90m<fct>\u001b[39m\u001b[23m buff, sick, sick, buff, buff, buff, sick, buff, sic…\n",
      "$ diagnosis_2        \u001b[3m\u001b[90m<fct>\u001b[39m\u001b[23m H, S2, S1, H, H, H, S3, H, S2, S1, H, H, S2, H, H, …\n"
     ]
    }
   ],
   "source": [
    "# Load data file and set column names\n",
    "cleveland <- read_delim(\"../data/raw/heart_disease_data.csv\", \n",
    "                        col_names = c('age','sex','chest_pain_type','resting_bp','cholesterol','high_blood_sugar','resting_ecg',\n",
    "                                      'max_heart_rate','exercise_pain','old_peak','slope','no_vessels_colored','thal',\n",
    "                                      'diagnosis','diagnosis_2'),\n",
    "                        delim = \",\",\n",
    "                        show_col_types = FALSE,\n",
    "                        na = \"?\")\n",
    "glimpse(cleveland)"
   ]
  },
  {
   "cell_type": "code",
   "execution_count": 3,
   "metadata": {},
   "outputs": [
    {
     "data": {
      "text/html": [
       "<table class=\"dataframe\">\n",
       "<caption>A tibble: 303 × 15</caption>\n",
       "<thead>\n",
       "\t<tr><th scope=col>age</th><th scope=col>sex</th><th scope=col>chest_pain_type</th><th scope=col>resting_bp</th><th scope=col>cholesterol</th><th scope=col>high_blood_sugar</th><th scope=col>resting_ecg</th><th scope=col>max_heart_rate</th><th scope=col>exercise_pain</th><th scope=col>old_peak</th><th scope=col>slope</th><th scope=col>no_vessels_colored</th><th scope=col>thal</th><th scope=col>diagnosis</th><th scope=col>diagnosis_2</th></tr>\n",
       "\t<tr><th scope=col>&lt;dbl&gt;</th><th scope=col>&lt;fct&gt;</th><th scope=col>&lt;fct&gt;</th><th scope=col>&lt;dbl&gt;</th><th scope=col>&lt;dbl&gt;</th><th scope=col>&lt;chr&gt;</th><th scope=col>&lt;fct&gt;</th><th scope=col>&lt;dbl&gt;</th><th scope=col>&lt;chr&gt;</th><th scope=col>&lt;dbl&gt;</th><th scope=col>&lt;fct&gt;</th><th scope=col>&lt;dbl&gt;</th><th scope=col>&lt;fct&gt;</th><th scope=col>&lt;chr&gt;</th><th scope=col>&lt;fct&gt;</th></tr>\n",
       "</thead>\n",
       "<tbody>\n",
       "\t<tr><td>63</td><td>male</td><td>angina</td><td>145</td><td>233</td><td>true</td><td>hyp</td><td>150</td><td>fal </td><td>2.3</td><td>down</td><td>0</td><td>fix </td><td>healthy</td><td>H </td></tr>\n",
       "\t<tr><td>67</td><td>male</td><td>asympt</td><td>160</td><td>286</td><td>fal </td><td>hyp</td><td>108</td><td>true</td><td>1.5</td><td>flat</td><td>3</td><td>norm</td><td>sick   </td><td>S2</td></tr>\n",
       "\t<tr><td>67</td><td>male</td><td>asympt</td><td>120</td><td>229</td><td>fal </td><td>hyp</td><td>129</td><td>true</td><td>2.6</td><td>flat</td><td>2</td><td>rev </td><td>sick   </td><td>S1</td></tr>\n",
       "\t<tr><td>⋮</td><td>⋮</td><td>⋮</td><td>⋮</td><td>⋮</td><td>⋮</td><td>⋮</td><td>⋮</td><td>⋮</td><td>⋮</td><td>⋮</td><td>⋮</td><td>⋮</td><td>⋮</td><td>⋮</td></tr>\n",
       "\t<tr><td>49</td><td>male</td><td>notang</td><td>118</td><td>149</td><td>fal</td><td>hyp </td><td>126</td><td>fal </td><td>0.8</td><td>up</td><td>3</td><td>norm</td><td>sick   </td><td>S1</td></tr>\n",
       "\t<tr><td>74</td><td>fem </td><td>abnang</td><td>120</td><td>269</td><td>fal</td><td>hyp </td><td>121</td><td>true</td><td>0.2</td><td>up</td><td>1</td><td>norm</td><td>healthy</td><td>H </td></tr>\n",
       "\t<tr><td>54</td><td>fem </td><td>notang</td><td>160</td><td>201</td><td>fal</td><td>norm</td><td>163</td><td>fal </td><td>0.0</td><td>up</td><td>1</td><td>norm</td><td>healthy</td><td>H </td></tr>\n",
       "</tbody>\n",
       "</table>\n"
      ],
      "text/latex": [
       "A tibble: 303 × 15\n",
       "\\begin{tabular}{lllllllllllllll}\n",
       " age & sex & chest\\_pain\\_type & resting\\_bp & cholesterol & high\\_blood\\_sugar & resting\\_ecg & max\\_heart\\_rate & exercise\\_pain & old\\_peak & slope & no\\_vessels\\_colored & thal & diagnosis & diagnosis\\_2\\\\\n",
       " <dbl> & <fct> & <fct> & <dbl> & <dbl> & <chr> & <fct> & <dbl> & <chr> & <dbl> & <fct> & <dbl> & <fct> & <chr> & <fct>\\\\\n",
       "\\hline\n",
       "\t 63 & male & angina & 145 & 233 & true & hyp & 150 & fal  & 2.3 & down & 0 & fix  & healthy & H \\\\\n",
       "\t 67 & male & asympt & 160 & 286 & fal  & hyp & 108 & true & 1.5 & flat & 3 & norm & sick    & S2\\\\\n",
       "\t 67 & male & asympt & 120 & 229 & fal  & hyp & 129 & true & 2.6 & flat & 2 & rev  & sick    & S1\\\\\n",
       "\t ⋮ & ⋮ & ⋮ & ⋮ & ⋮ & ⋮ & ⋮ & ⋮ & ⋮ & ⋮ & ⋮ & ⋮ & ⋮ & ⋮ & ⋮\\\\\n",
       "\t 49 & male & notang & 118 & 149 & fal & hyp  & 126 & fal  & 0.8 & up & 3 & norm & sick    & S1\\\\\n",
       "\t 74 & fem  & abnang & 120 & 269 & fal & hyp  & 121 & true & 0.2 & up & 1 & norm & healthy & H \\\\\n",
       "\t 54 & fem  & notang & 160 & 201 & fal & norm & 163 & fal  & 0.0 & up & 1 & norm & healthy & H \\\\\n",
       "\\end{tabular}\n"
      ],
      "text/markdown": [
       "\n",
       "A tibble: 303 × 15\n",
       "\n",
       "| age &lt;dbl&gt; | sex &lt;fct&gt; | chest_pain_type &lt;fct&gt; | resting_bp &lt;dbl&gt; | cholesterol &lt;dbl&gt; | high_blood_sugar &lt;chr&gt; | resting_ecg &lt;fct&gt; | max_heart_rate &lt;dbl&gt; | exercise_pain &lt;chr&gt; | old_peak &lt;dbl&gt; | slope &lt;fct&gt; | no_vessels_colored &lt;dbl&gt; | thal &lt;fct&gt; | diagnosis &lt;chr&gt; | diagnosis_2 &lt;fct&gt; |\n",
       "|---|---|---|---|---|---|---|---|---|---|---|---|---|---|---|\n",
       "| 63 | male | angina | 145 | 233 | true | hyp | 150 | fal  | 2.3 | down | 0 | fix  | healthy | H  |\n",
       "| 67 | male | asympt | 160 | 286 | fal  | hyp | 108 | true | 1.5 | flat | 3 | norm | sick    | S2 |\n",
       "| 67 | male | asympt | 120 | 229 | fal  | hyp | 129 | true | 2.6 | flat | 2 | rev  | sick    | S1 |\n",
       "| ⋮ | ⋮ | ⋮ | ⋮ | ⋮ | ⋮ | ⋮ | ⋮ | ⋮ | ⋮ | ⋮ | ⋮ | ⋮ | ⋮ | ⋮ |\n",
       "| 49 | male | notang | 118 | 149 | fal | hyp  | 126 | fal  | 0.8 | up | 3 | norm | sick    | S1 |\n",
       "| 74 | fem  | abnang | 120 | 269 | fal | hyp  | 121 | true | 0.2 | up | 1 | norm | healthy | H  |\n",
       "| 54 | fem  | notang | 160 | 201 | fal | norm | 163 | fal  | 0.0 | up | 1 | norm | healthy | H  |\n",
       "\n"
      ],
      "text/plain": [
       "    age sex  chest_pain_type resting_bp cholesterol high_blood_sugar\n",
       "1   63  male angina          145        233         true            \n",
       "2   67  male asympt          160        286         fal             \n",
       "3   67  male asympt          120        229         fal             \n",
       "⋮   ⋮   ⋮    ⋮               ⋮          ⋮           ⋮               \n",
       "301 49  male notang          118        149         fal             \n",
       "302 74  fem  abnang          120        269         fal             \n",
       "303 54  fem  notang          160        201         fal             \n",
       "    resting_ecg max_heart_rate exercise_pain old_peak slope no_vessels_colored\n",
       "1   hyp         150            fal           2.3      down  0                 \n",
       "2   hyp         108            true          1.5      flat  3                 \n",
       "3   hyp         129            true          2.6      flat  2                 \n",
       "⋮   ⋮           ⋮              ⋮             ⋮        ⋮     ⋮                 \n",
       "301 hyp         126            fal           0.8      up    3                 \n",
       "302 hyp         121            true          0.2      up    1                 \n",
       "303 norm        163            fal           0.0      up    1                 \n",
       "    thal diagnosis diagnosis_2\n",
       "1   fix  healthy   H          \n",
       "2   norm sick      S2         \n",
       "3   rev  sick      S1         \n",
       "⋮   ⋮    ⋮         ⋮          \n",
       "301 norm sick      S1         \n",
       "302 norm healthy   H          \n",
       "303 norm healthy   H          "
      ]
     },
     "metadata": {},
     "output_type": "display_data"
    }
   ],
   "source": [
    "source(\"../R/02-clean_data.R\")\n",
    "\n",
    "# replace values in dataframe for readability\n",
    "cleveland <- cleveland %>%\n",
    "                sub_values(high_blood_sugar, replacement = 'true', original = 'TRUE') %>%\n",
    "                sub_values(exercise_pain, replacement = 'true', original = 'TRUE') %>%\n",
    "                sub_values(diagnosis, replacement = 'healthy', original = 'buff')           \n",
    "cleveland"
   ]
  },
  {
   "cell_type": "markdown",
   "metadata": {},
   "source": [
    "<span style=\"color: gray;\">Table 1. Parsed Cleveland data set</span>"
   ]
  },
  {
   "cell_type": "markdown",
   "metadata": {},
   "source": [
    "The column `diagnosis_2` in Table 1 distinguishes different kinds of sickness. However, we could not find any documentation about what these different classes actually mean, thus we will focus on the distinction between healthy and sick in the `diagnosis` column."
   ]
  },
  {
   "cell_type": "code",
   "execution_count": null,
   "metadata": {},
   "outputs": [],
   "source": [
    "cleveland_select <- select(cleveland, -diagnosis_2)\n",
    "\n",
    "cleveland_select"
   ]
  },
  {
   "cell_type": "markdown",
   "metadata": {},
   "source": [
    "<span style=\"color: gray;\">Table 2. Tidied Cleveland data set</span>"
   ]
  },
  {
   "cell_type": "markdown",
   "metadata": {},
   "source": [
    "Having tidied the data, we now randomly split the data into a training and a testing set, taking 75% of the data for the training set."
   ]
  },
  {
   "cell_type": "code",
   "execution_count": 12,
   "metadata": {},
   "outputs": [
    {
     "data": {
      "text/html": [
       "<table class=\"dataframe\">\n",
       "<caption>A tibble: 226 × 14</caption>\n",
       "<thead>\n",
       "\t<tr><th scope=col>age</th><th scope=col>sex</th><th scope=col>chest_pain_type</th><th scope=col>resting_bp</th><th scope=col>cholesterol</th><th scope=col>high_blood_sugar</th><th scope=col>resting_ecg</th><th scope=col>max_heart_rate</th><th scope=col>exercise_pain</th><th scope=col>old_peak</th><th scope=col>slope</th><th scope=col>no_vessels_colored</th><th scope=col>thal</th><th scope=col>diagnosis</th></tr>\n",
       "\t<tr><th scope=col>&lt;dbl&gt;</th><th scope=col>&lt;fct&gt;</th><th scope=col>&lt;fct&gt;</th><th scope=col>&lt;dbl&gt;</th><th scope=col>&lt;dbl&gt;</th><th scope=col>&lt;fct&gt;</th><th scope=col>&lt;fct&gt;</th><th scope=col>&lt;dbl&gt;</th><th scope=col>&lt;fct&gt;</th><th scope=col>&lt;dbl&gt;</th><th scope=col>&lt;fct&gt;</th><th scope=col>&lt;dbl&gt;</th><th scope=col>&lt;fct&gt;</th><th scope=col>&lt;fct&gt;</th></tr>\n",
       "</thead>\n",
       "<tbody>\n",
       "\t<tr><td>63</td><td>male</td><td>angina</td><td>145</td><td>233</td><td>true</td><td>hyp </td><td>150</td><td>fal</td><td>2.3</td><td>down</td><td>0</td><td>fix </td><td>healthy</td></tr>\n",
       "\t<tr><td>37</td><td>male</td><td>notang</td><td>130</td><td>250</td><td>fal </td><td>norm</td><td>187</td><td>fal</td><td>3.5</td><td>down</td><td>0</td><td>norm</td><td>healthy</td></tr>\n",
       "\t<tr><td>41</td><td>fem </td><td>abnang</td><td>130</td><td>204</td><td>fal </td><td>hyp </td><td>172</td><td>fal</td><td>1.4</td><td>up  </td><td>0</td><td>norm</td><td>healthy</td></tr>\n",
       "\t<tr><td>⋮</td><td>⋮</td><td>⋮</td><td>⋮</td><td>⋮</td><td>⋮</td><td>⋮</td><td>⋮</td><td>⋮</td><td>⋮</td><td>⋮</td><td>⋮</td><td>⋮</td><td>⋮</td></tr>\n",
       "\t<tr><td>61</td><td>male</td><td>asympt</td><td>138</td><td>166</td><td>fal</td><td>hyp </td><td>125</td><td>true</td><td>3.6</td><td>flat</td><td>1</td><td>norm</td><td>sick</td></tr>\n",
       "\t<tr><td>42</td><td>male</td><td>asympt</td><td>136</td><td>315</td><td>fal</td><td>norm</td><td>125</td><td>true</td><td>1.8</td><td>flat</td><td>0</td><td>fix </td><td>sick</td></tr>\n",
       "\t<tr><td>77</td><td>male</td><td>asympt</td><td>125</td><td>304</td><td>fal</td><td>hyp </td><td>162</td><td>true</td><td>0.0</td><td>up  </td><td>3</td><td>norm</td><td>sick</td></tr>\n",
       "</tbody>\n",
       "</table>\n"
      ],
      "text/latex": [
       "A tibble: 226 × 14\n",
       "\\begin{tabular}{llllllllllllll}\n",
       " age & sex & chest\\_pain\\_type & resting\\_bp & cholesterol & high\\_blood\\_sugar & resting\\_ecg & max\\_heart\\_rate & exercise\\_pain & old\\_peak & slope & no\\_vessels\\_colored & thal & diagnosis\\\\\n",
       " <dbl> & <fct> & <fct> & <dbl> & <dbl> & <fct> & <fct> & <dbl> & <fct> & <dbl> & <fct> & <dbl> & <fct> & <fct>\\\\\n",
       "\\hline\n",
       "\t 63 & male & angina & 145 & 233 & true & hyp  & 150 & fal & 2.3 & down & 0 & fix  & healthy\\\\\n",
       "\t 37 & male & notang & 130 & 250 & fal  & norm & 187 & fal & 3.5 & down & 0 & norm & healthy\\\\\n",
       "\t 41 & fem  & abnang & 130 & 204 & fal  & hyp  & 172 & fal & 1.4 & up   & 0 & norm & healthy\\\\\n",
       "\t ⋮ & ⋮ & ⋮ & ⋮ & ⋮ & ⋮ & ⋮ & ⋮ & ⋮ & ⋮ & ⋮ & ⋮ & ⋮ & ⋮\\\\\n",
       "\t 61 & male & asympt & 138 & 166 & fal & hyp  & 125 & true & 3.6 & flat & 1 & norm & sick\\\\\n",
       "\t 42 & male & asympt & 136 & 315 & fal & norm & 125 & true & 1.8 & flat & 0 & fix  & sick\\\\\n",
       "\t 77 & male & asympt & 125 & 304 & fal & hyp  & 162 & true & 0.0 & up   & 3 & norm & sick\\\\\n",
       "\\end{tabular}\n"
      ],
      "text/markdown": [
       "\n",
       "A tibble: 226 × 14\n",
       "\n",
       "| age &lt;dbl&gt; | sex &lt;fct&gt; | chest_pain_type &lt;fct&gt; | resting_bp &lt;dbl&gt; | cholesterol &lt;dbl&gt; | high_blood_sugar &lt;fct&gt; | resting_ecg &lt;fct&gt; | max_heart_rate &lt;dbl&gt; | exercise_pain &lt;fct&gt; | old_peak &lt;dbl&gt; | slope &lt;fct&gt; | no_vessels_colored &lt;dbl&gt; | thal &lt;fct&gt; | diagnosis &lt;fct&gt; |\n",
       "|---|---|---|---|---|---|---|---|---|---|---|---|---|---|\n",
       "| 63 | male | angina | 145 | 233 | true | hyp  | 150 | fal | 2.3 | down | 0 | fix  | healthy |\n",
       "| 37 | male | notang | 130 | 250 | fal  | norm | 187 | fal | 3.5 | down | 0 | norm | healthy |\n",
       "| 41 | fem  | abnang | 130 | 204 | fal  | hyp  | 172 | fal | 1.4 | up   | 0 | norm | healthy |\n",
       "| ⋮ | ⋮ | ⋮ | ⋮ | ⋮ | ⋮ | ⋮ | ⋮ | ⋮ | ⋮ | ⋮ | ⋮ | ⋮ | ⋮ |\n",
       "| 61 | male | asympt | 138 | 166 | fal | hyp  | 125 | true | 3.6 | flat | 1 | norm | sick |\n",
       "| 42 | male | asympt | 136 | 315 | fal | norm | 125 | true | 1.8 | flat | 0 | fix  | sick |\n",
       "| 77 | male | asympt | 125 | 304 | fal | hyp  | 162 | true | 0.0 | up   | 3 | norm | sick |\n",
       "\n"
      ],
      "text/plain": [
       "    age sex  chest_pain_type resting_bp cholesterol high_blood_sugar\n",
       "1   63  male angina          145        233         true            \n",
       "2   37  male notang          130        250         fal             \n",
       "3   41  fem  abnang          130        204         fal             \n",
       "⋮   ⋮   ⋮    ⋮               ⋮          ⋮           ⋮               \n",
       "224 61  male asympt          138        166         fal             \n",
       "225 42  male asympt          136        315         fal             \n",
       "226 77  male asympt          125        304         fal             \n",
       "    resting_ecg max_heart_rate exercise_pain old_peak slope no_vessels_colored\n",
       "1   hyp         150            fal           2.3      down  0                 \n",
       "2   norm        187            fal           3.5      down  0                 \n",
       "3   hyp         172            fal           1.4      up    0                 \n",
       "⋮   ⋮           ⋮              ⋮             ⋮        ⋮     ⋮                 \n",
       "224 hyp         125            true          3.6      flat  1                 \n",
       "225 norm        125            true          1.8      flat  0                 \n",
       "226 hyp         162            true          0.0      up    3                 \n",
       "    thal diagnosis\n",
       "1   fix  healthy  \n",
       "2   norm healthy  \n",
       "3   norm healthy  \n",
       "⋮   ⋮    ⋮        \n",
       "224 norm sick     \n",
       "225 fix  sick     \n",
       "226 norm sick     "
      ]
     },
     "metadata": {},
     "output_type": "display_data"
    }
   ],
   "source": [
    "split_data = initial_split(cleveland_select, prop=0.75, strata=diagnosis)\n",
    "training_set <- training(split_data)\n",
    "testing_set <- testing(split_data)\n",
    "\n",
    "training_set"
   ]
  },
  {
   "cell_type": "markdown",
   "metadata": {},
   "source": [
    "<span style=\"color: gray;\">Table 3. Cleveland training set</span>"
   ]
  },
  {
   "cell_type": "markdown",
   "metadata": {},
   "source": [
    "We want to get a first impression of the different predictors in the data set, thus we compare the mean values of the numerical variables (Table 4) and the distribution of the factorial variables (Figure 1) for observations classified as sick and healthy."
   ]
  },
  {
   "cell_type": "code",
   "execution_count": 13,
   "metadata": {},
   "outputs": [
    {
     "data": {
      "text/html": [
       "<table class=\"dataframe\">\n",
       "<caption>A tibble: 2 × 8</caption>\n",
       "<thead>\n",
       "\t<tr><th scope=col>diagnosis</th><th scope=col>count</th><th scope=col>mean_age</th><th scope=col>mean_resting_bp</th><th scope=col>mean_cholesterol</th><th scope=col>mean_max_heart_rate</th><th scope=col>mean_old_peak</th><th scope=col>mean_no_vessels_colored</th></tr>\n",
       "\t<tr><th scope=col>&lt;fct&gt;</th><th scope=col>&lt;int&gt;</th><th scope=col>&lt;dbl&gt;</th><th scope=col>&lt;dbl&gt;</th><th scope=col>&lt;dbl&gt;</th><th scope=col>&lt;dbl&gt;</th><th scope=col>&lt;dbl&gt;</th><th scope=col>&lt;dbl&gt;</th></tr>\n",
       "</thead>\n",
       "<tbody>\n",
       "\t<tr><td>healthy</td><td>123</td><td>52.69919</td><td>129.8943</td><td>243.4065</td><td>158.1382</td><td>0.6577236</td><td>0.275000</td></tr>\n",
       "\t<tr><td>sick   </td><td>103</td><td>56.41748</td><td>134.6408</td><td>250.7573</td><td>138.2718</td><td>1.5796117</td><td>1.098039</td></tr>\n",
       "</tbody>\n",
       "</table>\n"
      ],
      "text/latex": [
       "A tibble: 2 × 8\n",
       "\\begin{tabular}{llllllll}\n",
       " diagnosis & count & mean\\_age & mean\\_resting\\_bp & mean\\_cholesterol & mean\\_max\\_heart\\_rate & mean\\_old\\_peak & mean\\_no\\_vessels\\_colored\\\\\n",
       " <fct> & <int> & <dbl> & <dbl> & <dbl> & <dbl> & <dbl> & <dbl>\\\\\n",
       "\\hline\n",
       "\t healthy & 123 & 52.69919 & 129.8943 & 243.4065 & 158.1382 & 0.6577236 & 0.275000\\\\\n",
       "\t sick    & 103 & 56.41748 & 134.6408 & 250.7573 & 138.2718 & 1.5796117 & 1.098039\\\\\n",
       "\\end{tabular}\n"
      ],
      "text/markdown": [
       "\n",
       "A tibble: 2 × 8\n",
       "\n",
       "| diagnosis &lt;fct&gt; | count &lt;int&gt; | mean_age &lt;dbl&gt; | mean_resting_bp &lt;dbl&gt; | mean_cholesterol &lt;dbl&gt; | mean_max_heart_rate &lt;dbl&gt; | mean_old_peak &lt;dbl&gt; | mean_no_vessels_colored &lt;dbl&gt; |\n",
       "|---|---|---|---|---|---|---|---|\n",
       "| healthy | 123 | 52.69919 | 129.8943 | 243.4065 | 158.1382 | 0.6577236 | 0.275000 |\n",
       "| sick    | 103 | 56.41748 | 134.6408 | 250.7573 | 138.2718 | 1.5796117 | 1.098039 |\n",
       "\n"
      ],
      "text/plain": [
       "  diagnosis count mean_age mean_resting_bp mean_cholesterol mean_max_heart_rate\n",
       "1 healthy   123   52.69919 129.8943        243.4065         158.1382           \n",
       "2 sick      103   56.41748 134.6408        250.7573         138.2718           \n",
       "  mean_old_peak mean_no_vessels_colored\n",
       "1 0.6577236     0.275000               \n",
       "2 1.5796117     1.098039               "
      ]
     },
     "metadata": {},
     "output_type": "display_data"
    }
   ],
   "source": [
    "#Average values of the numerical attributes\n",
    "source(\"../rscript/average_numeric.R\")\n",
    "summary_averages <- avg_numeric(training_set)\n",
    "summary_averages"
   ]
  },
  {
   "cell_type": "markdown",
   "metadata": {},
   "source": [
    "<span style=\"color: gray;\">Table 4. Average values of the numerical attributes</span>"
   ]
  },
  {
   "cell_type": "code",
   "execution_count": 15,
   "metadata": {},
   "outputs": [],
   "source": [
    "summary_factors <- training_set %>% \n",
    "    select(sex, chest_pain_type, high_blood_sugar, resting_ecg, diagnosis) %>% \n",
    "    pivot_longer(cols=sex:resting_ecg, names_to=\"attribute\", values_to=\"value\") %>% \n",
    "    ggplot(aes(y=attribute, fill=value)) + geom_bar(position=\"fill\") + facet_grid(cols=vars(diagnosis)) +\n",
    "        scale_fill_brewer(palette = \"Paired\") + labs(x=\"Ratio\", y=\"Attribute\", color=\"Value\")\n",
    "\n",
    "summary_factors_2 <- training_set %>% \n",
    "    select(exercise_pain, slope, thal, diagnosis) %>% \n",
    "    pivot_longer(cols=exercise_pain:thal, names_to=\"attribute\", values_to=\"value\") %>% \n",
    "    ggplot(aes(y=attribute, fill=value)) + geom_bar(position=\"fill\") + facet_grid(cols=vars(diagnosis)) +\n",
    "        scale_fill_brewer(palette = \"Paired\") + labs(x=\"Ratio\", y=\"Attribute\", color=\"Value\")\n",
    "\n",
    "plot_grid(summary_factors, summary_factors_2, ncol = 1)"
   ]
  },
  {
   "cell_type": "markdown",
   "metadata": {},
   "source": [
    "<span style=\"color: gray;\">Figure 1. The proportion of different values in each factorial attribute</span>"
   ]
  },
  {
   "cell_type": "markdown",
   "metadata": {},
   "source": [
    "As the mean values do not tell us much about the numerical variables, we also plot their histograms to visualize the distribution of the variables (Figure 2). We will use this later to choose the predictors we want to use."
   ]
  },
  {
   "cell_type": "code",
   "execution_count": 16,
   "metadata": {},
   "outputs": [
    {
     "name": "stderr",
     "output_type": "stream",
     "text": [
      "\u001b[1m\u001b[22m`stat_bin()` using `bins = 30`. Pick better value with `binwidth`.\n"
     ]
    },
    {
     "data": {
      "image/png": "[encoded data removed]",
      "text/plain": [
       "plot without title"
      ]
     },
     "metadata": {
      "image/png": {
       "height": 420,
       "width": 720
      }
     },
     "output_type": "display_data"
    }
   ],
   "source": []
  },
  {
   "cell_type": "code",
   "execution_count": 17,
   "metadata": {},
   "outputs": [],
   "source": [
    "# Histograms for individual variables\n",
    "source(\"../rscript/abstraction_histogram.R\")\n",
    "cholesterol_histogram <- abs_hist(training_set$cholesterol, \"Serum Cholesterol (mg/dl)\")\n",
    "age_histogram <- abs_hist(training_set$age, \"Age\")\n",
    "resting_bp_histogram <- abs_hist(training_set$resting_bp, \"Resting Blood Pressure(mm Hg)\")\n",
    "max_heart_rate_histogram <- abs_hist(training_set$max_heart_rate, \"Max Heart Rate(Beats/min)\")\n",
    "old_peak_histogram <- abs_hist(training_set$old_peak, \"Oldpeak\")\n",
    "no_vessels_colored_histogram <- abs_hist(training_set$no_vessels_colored, \"Number of colored vessels\")\n",
    "\n",
    "options(repr.plot.width = 16, repr.plot.height = 6) \n",
    "plot_grid(cholesterol_histogram,age_histogram,resting_bp_histogram, max_heart_rate_histogram,\n",
    "             old_peak_histogram, no_vessels_colored_histogram, ncol = 3) "
   ]
  },
  {
   "cell_type": "markdown",
   "metadata": {},
   "source": [
    "<span style=\"color: gray;\">Figure 2. The distribution of value of each attribute colored by diagnosis (a) Serium Cholesterol (b) Age (c) Resting Blood Pressure (d) Max Heart Rate (e) Oldpeak (f) Number of Colored Vessels</span>"
   ]
  },
  {
   "cell_type": "markdown",
   "metadata": {},
   "source": [
    "### Building & Optimizing Our Model\n",
    "We will use the k-nearest neighbor (KNN) algorithm for our data analysis (Timbers et al., 2022). KNN is a very well known classification algorithm, because it is very intuitive and does not make any major assumptions about the data. The only important requirement is that the distance between data points must represent their similarity. Furthermore, there are well-known ways to optimize a KNN model, which are implemented in the R library tidyverse, so it is easy to use.\n",
    "\n",
    "Our goal is to find the two best predictors for a KNN classification. However, taking all variables into account takes too long, so we exclude some, based on the exploration above:\n",
    "Based on Figure 1, `high blood sugar` did not show a significant increase between sick and healthy subjects. `Chest pain type` was removed from further analysis due to the initial study lacking documentation, as well as inconsistencies in the academic community for the terms and methods used to describe and categorize the types of chest pain. The academic community typically refers to only four types of angina: stable angina, unstable angina, microvascular angina, and vasospastic/variant angina (National Heart, Lung, and Blood Association, 2022). Therefore, it was challenging finding resources that properly described what abnormal angina was, as referenced in the original study. Additionally, `sex` as a predictor was excluded, as treating sex as binary is a topic we do not want to make a statement on.\n",
    "\n"
   ]
  },
  {
   "cell_type": "code",
   "execution_count": null,
   "metadata": {},
   "outputs": [],
   "source": [
    "training_set <- training_set %>% select(-sex, -high_blood_sugar, -chest_pain_type)"
   ]
  },
  {
   "cell_type": "markdown",
   "metadata": {},
   "source": [
    "KNN does not work with non-numerical parameters, so we need to convert our factorial parameters to numerical values. `Exercise pain` is a binary variable, so we convert it to 0 if no exercise pain was reported, and 1 otherwise. `Slope` can be easily replaced with  -1 for “down”, 0 for “flat”, or 1 for “up”. For better scaling of the parameters, `thal` and `resting ECG` values were replaced with non-standard numeric values; Normal was replaced with 0 and the non-normal values (i.e., symptomatic results) were either replaced with  4 or 5. We decided to use these values to represent that the abnormal states are versions of the same broader category."
   ]
  },
  {
   "cell_type": "code",
   "execution_count": null,
   "metadata": {},
   "outputs": [],
   "source": [
    "# Converting categorical variable to numeric data\n",
    "transform_numeric <- function(df) {\n",
    "    mutated <- mutate(df,\n",
    "                    exercise_pain=as.character(exercise_pain),\n",
    "                    exercise_pain=replace(exercise_pain, exercise_pain==\"fal\", \"0\"),\n",
    "                    exercise_pain=as.numeric(replace(exercise_pain, exercise_pain==\"true\", \"1\")),\n",
    "                    \n",
    "                    slope=as.character(slope),\n",
    "                    slope=replace(slope, slope==\"down\", \"-1\"),\n",
    "                    slope=replace(slope, slope==\"flat\", \"0\"),\n",
    "                    slope=as.numeric(replace(slope, slope==\"up\", \"1\")),\n",
    "                    \n",
    "                    # Below values are 'non-standard' values for a better scale\n",
    "                    thal=as.character(thal),\n",
    "                    thal=replace(thal, thal==\"rev\", \"4\"),\n",
    "                    thal=replace(thal, thal==\"norm\", \"0\"),\n",
    "                    thal=as.numeric(replace(thal, thal==\"fix\", \"5\")),\n",
    "\n",
    "                    resting_ecg=as.character(resting_ecg),\n",
    "                    resting_ecg=replace(resting_ecg, resting_ecg==\"abn\", \"4\"),\n",
    "                    resting_ecg=replace(resting_ecg, resting_ecg==\"norm\", \"0\"),\n",
    "                    resting_ecg=as.numeric(replace(resting_ecg, resting_ecg==\"hyp\", \"5\")),\n",
    "                    )\n",
    "    return(mutated)\n",
    "}"
   ]
  },
  {
   "cell_type": "code",
   "execution_count": null,
   "metadata": {},
   "outputs": [],
   "source": [
    "training_set <- transform_numeric(training_set)\n",
    "testing_set <- transform_numeric(testing_set)"
   ]
  },
  {
   "cell_type": "markdown",
   "metadata": {},
   "source": [
    "To optimize the model, we need to ensure that there are no ‘Not-a-Number’ values in the training data. We document the number of rows we omit, to make sure that the model still provides sufficient information: Only roughly 2% of our observations contain NaN values, so we can safely ignore them."
   ]
  },
  {
   "cell_type": "code",
   "execution_count": null,
   "metadata": {},
   "outputs": [],
   "source": [
    "# removing NA rows to make sure our cross-validation works\n",
    "before <- nrow(training_set)\n",
    "training_set <- training_set %>% na.omit()\n",
    "after <- nrow(training_set)\n",
    "print(paste(\"Removed entries:\",before-after, \"out of\", before))"
   ]
  },
  {
   "cell_type": "markdown",
   "metadata": {},
   "source": [
    "To get a better grasp of the data set and be able to understand the following metrics, we also count the number of observations that are labeled as sick.\n",
    "\n",
    "We can see that roughly 46% of our data points are sick. KNN sometimes struggles if the different classes are not balanced. Since this is not the case here, we do not need to artificially balance the classes (for example with oversampling)."
   ]
  },
  {
   "cell_type": "code",
   "execution_count": null,
   "metadata": {},
   "outputs": [],
   "source": [
    "# count sick entries\n",
    "nr_sick <- training_set %>% filter(diagnosis=='sick') %>% nrow()\n",
    "print(paste(\"Sick entries:\",nr_sick, \"/\", nrow(training_set)))"
   ]
  },
  {
   "cell_type": "markdown",
   "metadata": {},
   "source": [
    "Despite aiming for two predictors, we first want to build and optimize a model for all the predictors that have not been excluded so far. This allows us to have a reference for our two-predictor-models and lets us verify our model building.\n",
    "\n",
    "The choice of the parameter $k$ neighbors used has a lot of influence on the accuracy of the model. We apply cross-validation to optimize this parameter. Odd values of $k$  ranging from 1 to 30 are tested, since odd values have the advantage of not needing a tie-breaker during the KNN algorithm. Looking at more than every 7th data point would probably lead to underfitting (Timbers et al., 2022).\n",
    "As noted above, KNN needs data where the euclidean distances describe the similarity between the data points, thus it is important that the data set is scaled. This way the euclidean distances mimic the distance of the data points on a graph with linear axes."
   ]
  },
  {
   "cell_type": "code",
   "execution_count": null,
   "metadata": {},
   "outputs": [],
   "source": [
    "# Perform cross validation to find optimal k\n",
    "vfold <- vfold_cv(training_set, v=5, strata=diagnosis)\n",
    "gridvals <- tibble(neighbors=seq(1,30,by=2))\n",
    "\n",
    "image_recipe <- recipe(diagnosis ~ ., data = training_set) %>%\n",
    "        step_scale(all_predictors()) %>%\n",
    "        step_center(all_predictors())\n",
    "\n",
    "knn_spec <- nearest_neighbor(weight_func = \"rectangular\", neighbors = tune()) %>%\n",
    "       set_engine(\"kknn\") %>%\n",
    "       set_mode(\"classification\")\n",
    "\n",
    "knn_fit <- workflow() %>%\n",
    "       add_recipe(image_recipe) %>%\n",
    "       add_model(knn_spec) %>%\n",
    "       tune_grid(resamples = vfold, grid=gridvals) %>% collect_metrics()\n",
    "\n",
    "best_fit <- knn_fit %>%\n",
    "   filter(.metric == \"accuracy\") %>%\n",
    "   arrange(desc(mean)) %>% \n",
    "   slice(1)\n",
    "\n",
    "optimal_k <- best_fit %>% pull(neighbors)\n",
    "\n",
    "best_fit"
   ]
  },
  {
   "cell_type": "markdown",
   "metadata": {},
   "source": [
    "<span style=\"color: gray;\">Table 5. The cross-validation results for all predictors</span>"
   ]
  },
  {
   "cell_type": "markdown",
   "metadata": {},
   "source": [
    "Table 5 shows the optimal value of $k$ for the “all predictors” model. We can see that $k=13$ is the best choice, with an accuracy of almost 81%.\n",
    "\n",
    "However, we are not only interested in the accuracy, but also in the false negatives, as labeling someone as healthy who is actually sick is much more dangerous than the other way round. Since this information can not be extracted from the cross-validation, we train a KNN model with the chosen value of $k$ on the whole training set, and let it process the training set. As we are still building our model, the testing data can not be used for this purpose. We could also split our training data once more, a validation set which we would use to determine the false negative rate. However, this would make our false negative rate very dependent on this one random split. Thus, we decided against this second approach.\n",
    "\n",
    "Note that we can not and should not optimize our whole model for the lowest false negative rate, as always predicting “sick” would set this value to $0$, and the resulting model would be worthless.\n"
   ]
  },
  {
   "cell_type": "code",
   "execution_count": null,
   "metadata": {},
   "outputs": [],
   "source": [
    "knn_spec <- nearest_neighbor(weight_func = \"rectangular\", neighbors = optimal_k) %>%\n",
    "       set_engine(\"kknn\") %>%\n",
    "       set_mode(\"classification\")\n",
    "\n",
    "knn_fit <- workflow() %>%\n",
    "       add_recipe(image_recipe) %>%\n",
    "       add_model(knn_spec) %>%\n",
    "       fit(data = training_set)\n",
    "\n",
    "\n",
    "# predicting the whole training set to get an idea of the accuracy\n",
    "# Since the choice of which variables to include as predictors\n",
    "# is part of tuning your classifier, you cannot use your test data for this process!\n",
    "diagnosis_test_predictions <- predict(knn_fit, training_set) %>%\n",
    "      bind_cols(training_set)\n",
    "\n",
    "# pull metrics\n",
    "diagnosis_prediction_confusion <- diagnosis_test_predictions %>%\n",
    "            conf_mat(truth = diagnosis, estimate = .pred_class)\n",
    "\n",
    "diagnosis_prediction_confusion"
   ]
  },
  {
   "cell_type": "markdown",
   "metadata": {},
   "source": [
    "<span style=\"color: gray;\">Table 6. The Confusion Matrix for all predictors</span>"
   ]
  },
  {
   "cell_type": "markdown",
   "metadata": {},
   "source": [
    "The resulting confusion matrix is shown in Table 6. The first column shows the observations that are _actually_ healthy, the second one the ones that are healthy. The first row shows the observations that are _predicted_ as healthy, with those predicted as sick in the second row. Thus, there are 105 people who are correctly determined as healthy, 79 who are correctly determined as sick, 23 who are labeled as healthy despite being sick (which is the bad case), and 14 that are labeled as sick despite being healthy.\n",
    "\n",
    "We now repeat the process described above for every subset of two predictors. We thereby track the predictors, the optimized value of $k$, the accuracy, and the number of false negatives. The resulting data are shown in Table 7."
   ]
  },
  {
   "cell_type": "code",
   "execution_count": null,
   "metadata": {},
   "outputs": [],
   "source": [
    "### WARNING ###\n",
    "# This cell takes about 4 minutes to run!\n",
    "# We print the current formula we train to show the progress made\n",
    "# The last formula \"diagnosis ~ thal + no_vessels_colored\"\n",
    "# please do not interrupt the kernel and just let it take it's time\n",
    "### WARNING ###\n",
    "\n",
    "predictors <- colnames(training_set %>% select(-diagnosis))\n",
    "# iterate over all pairs of predictors \n",
    "two_predictors <- tibble(formula = c(\"diagnosis ~ .\"), k=c(optimal_k),\n",
    "                         accuracy = c(best_fit %>% pull(mean)),\n",
    "                         false_healthy = c(diagnosis_prediction_confusion %>% tidy() %>% filter(name == \"cell_1_2\") %>% pull(value)))\n",
    "for (i in 2:length(predictors)) {\n",
    "    for (j in 1:(i-1)) {\n",
    "        model_string <- paste(\"diagnosis\", \"~\", predictors[i], \"+\", predictors[j])\n",
    "        print(model_string)\n",
    "        flush.console()\n",
    "        \n",
    "        # find best k\n",
    "        image_recipe <- recipe(as.formula(model_string), data = training_set)%>%\n",
    "            step_scale(all_predictors()) %>%\n",
    "            step_center(all_predictors())\n",
    "\n",
    "        knn_spec <- nearest_neighbor(weight_func = \"rectangular\", neighbors = tune()) %>%\n",
    "            set_engine(\"kknn\") %>%\n",
    "            set_mode(\"classification\")\n",
    "\n",
    "        knn_fit <- workflow() %>%\n",
    "            add_recipe(image_recipe) %>%\n",
    "            add_model(knn_spec) %>%\n",
    "            tune_grid(resamples = vfold, grid=gridvals) %>% \n",
    "            collect_metrics()\n",
    "\n",
    "        best_fit <- knn_fit %>%\n",
    "            filter(.metric == \"accuracy\") %>%\n",
    "            arrange(desc(mean)) %>% \n",
    "            slice(1)\n",
    "\n",
    "        optimal_k <- best_fit %>% pull(neighbors)\n",
    "\n",
    "        # train\n",
    "        knn_spec <- nearest_neighbor(weight_func = \"rectangular\", neighbors = optimal_k) %>%\n",
    "            set_engine(\"kknn\") %>%\n",
    "            set_mode(\"classification\")\n",
    "        \n",
    "        knn_fit <- workflow() %>%\n",
    "            add_recipe(image_recipe) %>%\n",
    "            add_model(knn_spec) %>%\n",
    "            fit(data = training_set)\n",
    "\n",
    "        predictions <- predict(knn_fit , training_set) %>%\n",
    "            bind_cols(training_set)\n",
    "        \n",
    "        diagnosis_prediction_confusion <- predictions %>%\n",
    "            conf_mat(truth = diagnosis, estimate = .pred_class) %>%\n",
    "            tidy()\n",
    "        \n",
    "        two_predictors <- two_predictors %>% \n",
    "        add_row(formula = model_string, k = optimal_k, accuracy = best_fit %>% pull(mean),\n",
    "                false_healthy = diagnosis_prediction_confusion %>% filter(name == \"cell_1_2\") %>% pull(value))\n",
    "    }\n",
    "}\n",
    "\n",
    "two_predictors %>% arrange(desc(accuracy))"
   ]
  },
  {
   "cell_type": "markdown",
   "metadata": {},
   "source": [
    "<span style=\"color: gray;\">Table 7. The accuracy results for all tried formulas</span>"
   ]
  },
  {
   "cell_type": "markdown",
   "metadata": {},
   "source": [
    "We also visualize the data in Figure 3. The formulas on the y axis can be read as follows: The words like `diagnosis`, `thal`, `old_peak`, etc. reference the corresponding variables; `~` can be read as “is predicted by”; `+` as “and”; and `.` as “all predictors”. Thus `diagnosis ~ .` means we take all the predictors (except the ones we excluded above, such as `sex`), and `diagnosis ~ thal + slope` means we use the two predictors thal and slope to predict the diagnosis."
   ]
  },
  {
   "cell_type": "code",
   "execution_count": null,
   "metadata": {},
   "outputs": [],
   "source": [
    "plot_acc <- two_predictors %>% ggplot(aes(x=accuracy, y=reorder(formula, accuracy))) + geom_bar(stat=\"identity\", fill=\"#1f78b4\") +\n",
    "    scale_x_continuous(labels = scales::percent, limits=c(0,1)) + xlab(\"Accuracy\") + ylab(\"\") + \n",
    "    theme(axis.text.y=element_blank()) \n",
    "plot_false <- two_predictors %>% ggplot(aes(x=false_healthy, y=reorder(formula, accuracy))) + geom_bar(stat=\"identity\", fill=\"#a6cee3\") +\n",
    "    xlab(\"False Negatives\") + ylab(\"Formula\")\n",
    "\n",
    "options(repr.plot.width = 12, repr.plot.height = 12) \n",
    "plot_grid(plot_false, plot_acc, ncol = 2)"
   ]
  },
  {
   "cell_type": "markdown",
   "metadata": {},
   "source": [
    "<span style=\"color: gray;\">Figure 3. The (a) False Negatives value and (b) Accuracy percentage of different combinations of predictors</span>"
   ]
  },
  {
   "cell_type": "markdown",
   "metadata": {},
   "source": [
    "### Model Selection & Verification\n",
    "\n",
    "We now have to select the formula we want to use.\n",
    "\n",
    "For this, we mostly want high accuracy. If the accuracy is comparable, we want to make sure to choose the one with fewer false negatives. As we are aiming for a simple check-up, using all predictors (`diagnosis ~ .`) is not ideal, though yielding the highest accuracy. We pick `exercise_pain + age` because it has similar false negatives while having an accuracy that is similar to when using all predictors while being attributes that are easily examined."
   ]
  },
  {
   "cell_type": "code",
   "execution_count": null,
   "metadata": {},
   "outputs": [],
   "source": [
    "two_predictors %>% filter(formula == \"diagnosis ~ .\" | \n",
    "                          formula == \"diagnosis ~ exercise_pain + age\")"
   ]
  },
  {
   "cell_type": "markdown",
   "metadata": {},
   "source": [
    "<span style=\"color: gray;\">Table 8. The accuracy results for the selected formula, compared with the \"all predictors\" version</span>"
   ]
  },
  {
   "cell_type": "markdown",
   "metadata": {},
   "source": [
    "The chosen model uses the number of vessels colored and maximum heart rate as predictors. Exercise pain can be evaluated by the patient doing exercises suggested by the doctor and recording any pain that has emerged. Furthermore, there is a very useful tool that doctors use called the exercise electrocardiogram. This can be done to determine the stress on the heart caused by exercising (Heart and Stroke Foundation of Canada, n.d.).\n",
    "\n",
    "We can now verify the model on the testing data."
   ]
  },
  {
   "cell_type": "code",
   "execution_count": null,
   "metadata": {},
   "outputs": [],
   "source": [
    "clev_numeric <- transform_numeric(cleveland)"
   ]
  },
  {
   "cell_type": "code",
   "execution_count": null,
   "metadata": {},
   "outputs": [],
   "source": [
    "image_recipe <- recipe(diagnosis ~ exercise_pain + age, data = training_set) %>%\n",
    "        step_scale(all_predictors()) %>%\n",
    "        step_center(all_predictors())\n",
    "\n",
    "knn_spec <- nearest_neighbor(weight_func = \"rectangular\", neighbors = 11) %>%\n",
    "       set_engine(\"kknn\") %>%\n",
    "       set_mode(\"classification\")\n",
    "\n",
    "knn_fit <- workflow() %>%\n",
    "       add_recipe(image_recipe) %>%\n",
    "       add_model(knn_spec) %>%\n",
    "       fit(data=training_set)"
   ]
  },
  {
   "cell_type": "code",
   "execution_count": null,
   "metadata": {},
   "outputs": [],
   "source": [
    "testing_set <- testing_set %>% na.omit()\n",
    "predictions <- predict(knn_fit , testing_set) %>%\n",
    "    bind_cols(testing_set)\n",
    "final_quality <- predictions %>% \n",
    "    metrics(truth = diagnosis, estimate = .pred_class) %>% \n",
    "    filter(.metric==\"accuracy\")\n",
    "predictions %>% conf_mat(truth = diagnosis, estimate = .pred_class)\n",
    "final_quality"
   ]
  },
  {
   "cell_type": "markdown",
   "metadata": {},
   "source": [
    "<span style=\"color: gray;\">Table 9. The accuracy results and confusion matrix for <tt> exercise_pain and age </tt></span>"
   ]
  },
  {
   "cell_type": "markdown",
   "metadata": {},
   "source": [
    "Overall, the accuracy for our model is 68%, which is much lower than expected. This could have been due to only taking into account 2 predictor variables and randomization during the splitting process.\n",
    "\n",
    "Using this version, the rate for diagnosing sick patients as healthy is ~34%. This means that 3 out of 10 cases of heart disease are misdiagnosed. However, as this is a simple method for doctors to use as a signal to further monitor patients for risk of developing disease, the accuracy for this version may be acceptable."
   ]
  },
  {
   "cell_type": "markdown",
   "metadata": {},
   "source": [
    "We can also plot the whole data set and the areas where new data points will be classified as sick or healthy (Figure 4)."
   ]
  },
  {
   "cell_type": "code",
   "execution_count": null,
   "metadata": {},
   "outputs": [],
   "source": [
    "options(repr.plot.width = 12, repr.plot.height = 7) \n",
    "\n",
    "# create the grid of area/smoothness vals, and arrange in a data frame\n",
    "# Code taken and adapted from https://datasciencebook.ca/classification.html#fig:05-upsample-plot\n",
    "x_grid <- seq(min(clev_numeric$exercise_pain, na.rm=TRUE), \n",
    "                max(clev_numeric$exercise_pain, na.rm=TRUE), \n",
    "                length.out = 100)\n",
    "y_grid <- seq(min(clev_numeric$age), \n",
    "                max(clev_numeric$age), \n",
    "                length.out = 100)\n",
    "asgrid <- as_tibble(expand.grid(exercise_pain = x_grid, \n",
    "                                age = y_grid))\n",
    "\n",
    "# use the fit workflow to make predictions at the grid points\n",
    "knnPredGrid <- predict(knn_fit, asgrid)\n",
    "\n",
    "# bind the predictions as a new column with the grid points\n",
    "prediction_table <- bind_cols(knnPredGrid, asgrid) %>% \n",
    "  rename(Class = .pred_class)\n",
    "\n",
    "# plot:\n",
    "# 1. the colored scatter of the original data\n",
    "# 2. the faded colored scatter for the grid points\n",
    "wkflw_plot <-\n",
    "  ggplot() +\n",
    "  geom_point(data = clev_numeric, \n",
    "             mapping = aes(x = exercise_pain, \n",
    "                           y = age, \n",
    "                           color = diagnosis), \n",
    "             alpha = 0.75) +\n",
    "  geom_point(data = prediction_table, \n",
    "             mapping = aes(x = exercise_pain, \n",
    "                           y = age, \n",
    "                           color = Class), \n",
    "             alpha = 0.02, \n",
    "             size = 10) +\n",
    "  labs(color = \"Diagnosis\", \n",
    "       x = \"Excercise Pain\", \n",
    "       y = \"Age (years)\") +\n",
    "  scale_color_manual(labels = c(\"Healthy\", \"Sick\"), \n",
    "                     values = c(\"steelblue2\", \"orange2\")) +\n",
    "  theme(text = element_text(size = 12))\n",
    "\n",
    "wkflw_plot"
   ]
  },
  {
   "cell_type": "markdown",
   "metadata": {},
   "source": [
    "<span style=\"color: gray;\">Figure 4. Fitting of data with <tt> exercise pain and age </tt> as predictors</span>"
   ]
  },
  {
   "cell_type": "markdown",
   "metadata": {},
   "source": [
    "Figure 4 suggests that having any exercise-induced pain is more likely to be classified as sick regardless of age. However, the rigged areas in the graph suggests that there might have been outliers, confounding variables and/or over-fitting of the KNN model since we are not taking into considerations other factors that are highly interrelated to age or exercise pain. "
   ]
  },
  {
   "cell_type": "markdown",
   "metadata": {},
   "source": [
    "A research paper (Niederstrasser NG, Attridge N, 2022) shows that older adults have a higher incidence of musculoskeletal pain especially chronic pain and are generally less physically active than younger adults. However, the main reason is not due to aging but low physical activity and low wealth during their younger age. Another research (Ciolac, Emmanuel G, 2010) suggests that age does not affect the musculoskeletal and cardiovascular response to resistance and aerobic training in women. The elderly can exercise safely while having similar exercise intensity compared with the younger and the workload progression does not increase the risk of muscle incidence or injuries. In conclusion, both articles we found suggest that age does not directly affects exercise pain."
   ]
  },
  {
   "cell_type": "markdown",
   "metadata": {},
   "source": [
    "## Discussion"
   ]
  },
  {
   "cell_type": "markdown",
   "metadata": {},
   "source": [
    "This analysis challenges some of the initial research done for this project.  For example, cholesterol is typically considered highly correlated with heart disease (2), however it appears not to be a strong predictor in this data set (Figure 3); there is not a significant distribution difference between the sick and healthy population (Figure 2a). On the other hand, exercise pain is a pretty good predictor for heart disease in this data set, which makes sense from a naive standpoint, as well as from the distribution of the data set (cf. Figure 1).\n",
    "\n",
    "Beginning this project, we were optimistic about finding a model with high accuracy that could be used to predict heart disease. However, the highest accuracy found during this analysis was around 80%. Ideally, this analysis would have revealed a set of predictors with an even higher accuracy. This might be due to confounding variables, the slight imbalance (cf. Figure 4) and outliers within our data set.\n",
    "\n",
    "Our model offers a preliminary diagnosis, which helps healthcare professional to save time and medical costs when identifying high-risks population. Hence, age and exercise pain are appropriate predictors for this purpose as it is inexpensive, time-efficient and require minimal testing. Despite being a preliminary diagnosis tool for heart diseases, improvements such as taking confounding variables into account and/or using a bigger data set in future projects would help improve the model's accuracy.\n",
    "\n",
    "There are several open questions: Can our model be improved to diagnose the severity of heart disease in patients? Are we able to improve our accuracy and false negative rate by taking more predictors? Are there predictors that are less expensive but still achieve a similar accuracy? In our data set, most formulas with high accuracy involve expensive tests (cf. Figure 3). Lastly, is there a more effective and convenient predictor for diagnosing heart disease than the ones used in this analysis? One example for this might be a family history of heart diseases (American Heart Association, 2015)."
   ]
  },
  {
   "cell_type": "markdown",
   "metadata": {},
   "source": [
    "## References\n"
   ]
  },
  {
   "cell_type": "markdown",
   "metadata": {},
   "source": [
    "Ahmad, F. B., & Anderson, R. N. (2021). The leading causes of death in the US for 2020. JAMA, 325(18). https://doi.org/10.1001/jama.2021.5469\n",
    "\n",
    "American Heart Association. (2015). Family History and Heart Disease, Stroke. Www.heart.org. https://www.heart.org/en/health-topics/consumer-healthcare/what-is-cardiovascular-disease/family-history-and-heart-disease-stroke\n",
    "\n",
    "Centers for Disease Control and Prevention. (2022, October 14). Heart disease Facts. Centers for Disease Control and Prevention. https://www.cdc.gov/heartdisease/facts.htm\n",
    "\n",
    "Ciolac, Emmanuel G; Brech, Guilherme C; Greve, Júlia M D. (2010, November) Age Does Not Affect Exercise Intensity Progression among Women. https://journals.lww.com/nsca-jscr/FullText/2010/11000/Age_Does_Not_Affect_Exercise_Intensity_Progression.18.aspx\n",
    "\n",
    "Detrano, R. (1988). Heart Disease Data Set. UC Irvine Machine Learning Repository. https://archive.ics.uci.edu/ml/datasets/Heart+Disease\n",
    "\n",
    "Heart and Stroke Foundation of Canada. (n.d.). Exercise Electrocardiogram. Heart and Stroke Foundation of Canada. https://www.heartandstroke.ca/heart-disease/tests/exercise-electrocardiogram\n",
    "\n",
    "Madjid, M., Safavi-Naeini, P., Solomon, S. D., & Vardeny, O. (2020). Potential Effects of Coronaviruses on the Cardiovascular System: A Review. JAMA Cardiology, 5(7). https://doi.org/10.1001/jamacardio.2020.1286\n",
    "\n",
    "National Heart, Lung, and Blood Institute. (2022, March 24). Angina (Chest Pain) - Types | NHLBI, NIH. Www.nhlbi.nih.gov. https://www.nhlbi.nih.gov/health/angina/types#:~:text=The%20types%20of%20angina%20are\n",
    "\n",
    "Niederstrasser NG, Attridge N. (2022, January 28). Associations between pain and physical activity among older adults. https://www.ncbi.nlm.nih.gov/pmc/articles/PMC8797193/\n",
    "\n",
    "Timbers, T., Campbell, T., & Lee, M. (2022). Data Science: A First Introduction. In datasciencebook.ca (1st ed.). Chapman & Hall. https://datasciencebook.ca/\n"
   ]
  },
  {
   "cell_type": "code",
   "execution_count": null,
   "metadata": {},
   "outputs": [],
   "source": []
  }
 ],
 "metadata": {
  "kernelspec": {
   "display_name": "R",
   "language": "R",
   "name": "ir"
  },
  "language_info": {
   "codemirror_mode": "r",
   "file_extension": ".r",
   "mimetype": "text/x-r-source",
   "name": "R",
   "pygments_lexer": "r",
   "version": "4.1.3"
  }
 },
 "nbformat": 4,
 "nbformat_minor": 4
}
