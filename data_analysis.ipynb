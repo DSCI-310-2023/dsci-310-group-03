{
 "cells": [
  {
   "cell_type": "markdown",
   "id": "3a49c53b-1dd1-419d-bf92-dc7a19344657",
   "metadata": {},
   "source": [
    "## Title\n"
   ]
  },
  {
   "cell_type": "code",
   "execution_count": null,
   "id": "7801aea5-8613-4b7b-bd64-1d1356cee9bd",
   "metadata": {},
   "outputs": [],
   "source": []
  }
 ],
 "metadata": {
  "kernelspec": {
   "display_name": "R",
   "language": "R",
   "name": "ir"
  },
  "language_info": {
   "codemirror_mode": "r",
   "file_extension": ".r",
   "mimetype": "text/x-r-source",
   "name": "R",
   "pygments_lexer": "r",
   "version": "4.2.2"
  }
 },
 "nbformat": 4,
 "nbformat_minor": 5
}
